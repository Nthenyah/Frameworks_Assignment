{
 "cells": [
  {
   "cell_type": "markdown",
   "id": "32e29b68-0913-4357-a74d-c9f6683cc9fa",
   "metadata": {},
   "source": [
    "# CORD-19 Metadata Analysis\n",
    "**Author:** GLORIA BAKER  \n",
    "**Course:** PLP Academy — Frameworks Assignment  \n",
    "**What I did:** I loaded the CORD-19 `metaData.csv`, cleaned it, explored it, made visualizations, and built a small Streamlit app to show the results.\n"
   ]
  },
  {
   "cell_type": "code",
   "execution_count": 39,
   "id": "6affb3cf-cac6-4d23-8b05-3ac8c2d2086f",
   "metadata": {},
   "outputs": [],
   "source": [
    "# Imports and display settings\n",
    "import pandas as pd\n",
    "import numpy as np\n",
    "import matplotlib.pyplot as plt\n",
    "import seaborn as sns\n",
    "from collections import Counter\n",
    "import re\n",
    "import os\n",
    "\n",
    "sns.set(style=\"whitegrid\")\n",
    "plt.rcParams[\"figure.figsize\"] = (10,5)\n",
    "pd.options.display.max_columns = 40\n"
   ]
  },
  {
   "cell_type": "code",
   "execution_count": 23,
   "id": "b7986463-97cd-4d04-a966-bb8c855f4b63",
   "metadata": {},
   "outputs": [
    {
     "name": "stdout",
     "output_type": "stream",
     "text": [
      "Dataset loaded. Shape: (1056660, 19)\n"
     ]
    }
   ],
   "source": [
    "# Load the dataset (use the exact path you have)\n",
    "path = r\"C:/Users/User/Desktop/Python/Frameworks_Assignment/metaData.csv\"\n",
    "\n",
    "try:\n",
    "    df = pd.read_csv(path, low_memory=False)\n",
    "    print(\"Dataset loaded. Shape:\", df.shape)\n",
    "except Exception as e:\n",
    "    print(\"Error loading file:\", e)\n",
    "    raise\n"
   ]
  },
  {
   "cell_type": "code",
   "execution_count": 26,
   "id": "1ce042d6-8e44-4dac-9df7-f8cfc8c69f3b",
   "metadata": {},
   "outputs": [
    {
     "name": "stdout",
     "output_type": "stream",
     "text": [
      "Columns: ['cord_uid', 'sha', 'source_x', 'title', 'doi', 'pmcid', 'pubmed_id', 'license', 'abstract', 'publish_time', 'authors', 'journal', 'mag_id', 'who_covidence_id', 'arxiv_id', 'pdf_json_files', 'pmc_json_files', 'url', 's2_id']\n"
     ]
    },
    {
     "data": {
      "text/html": [
       "<div>\n",
       "<style scoped>\n",
       "    .dataframe tbody tr th:only-of-type {\n",
       "        vertical-align: middle;\n",
       "    }\n",
       "\n",
       "    .dataframe tbody tr th {\n",
       "        vertical-align: top;\n",
       "    }\n",
       "\n",
       "    .dataframe thead th {\n",
       "        text-align: right;\n",
       "    }\n",
       "</style>\n",
       "<table border=\"1\" class=\"dataframe\">\n",
       "  <thead>\n",
       "    <tr style=\"text-align: right;\">\n",
       "      <th></th>\n",
       "      <th>cord_uid</th>\n",
       "      <th>sha</th>\n",
       "      <th>source_x</th>\n",
       "      <th>title</th>\n",
       "      <th>doi</th>\n",
       "      <th>pmcid</th>\n",
       "      <th>pubmed_id</th>\n",
       "      <th>license</th>\n",
       "      <th>abstract</th>\n",
       "      <th>publish_time</th>\n",
       "      <th>authors</th>\n",
       "      <th>journal</th>\n",
       "      <th>mag_id</th>\n",
       "      <th>who_covidence_id</th>\n",
       "      <th>arxiv_id</th>\n",
       "      <th>pdf_json_files</th>\n",
       "      <th>pmc_json_files</th>\n",
       "      <th>url</th>\n",
       "      <th>s2_id</th>\n",
       "    </tr>\n",
       "  </thead>\n",
       "  <tbody>\n",
       "    <tr>\n",
       "      <th>0</th>\n",
       "      <td>ug7v899j</td>\n",
       "      <td>d1aafb70c066a2068b02786f8929fd9c900897fb</td>\n",
       "      <td>PMC</td>\n",
       "      <td>Clinical features of culture-proven Mycoplasma...</td>\n",
       "      <td>10.1186/1471-2334-1-6</td>\n",
       "      <td>PMC35282</td>\n",
       "      <td>11472636</td>\n",
       "      <td>no-cc</td>\n",
       "      <td>OBJECTIVE: This retrospective chart review des...</td>\n",
       "      <td>2001-07-04</td>\n",
       "      <td>Madani, Tariq A; Al-Ghamdi, Aisha A</td>\n",
       "      <td>BMC Infect Dis</td>\n",
       "      <td>NaN</td>\n",
       "      <td>NaN</td>\n",
       "      <td>NaN</td>\n",
       "      <td>document_parses/pdf_json/d1aafb70c066a2068b027...</td>\n",
       "      <td>document_parses/pmc_json/PMC35282.xml.json</td>\n",
       "      <td>https://www.ncbi.nlm.nih.gov/pmc/articles/PMC3...</td>\n",
       "      <td>NaN</td>\n",
       "    </tr>\n",
       "    <tr>\n",
       "      <th>1</th>\n",
       "      <td>02tnwd4m</td>\n",
       "      <td>6b0567729c2143a66d737eb0a2f63f2dce2e5a7d</td>\n",
       "      <td>PMC</td>\n",
       "      <td>Nitric oxide: a pro-inflammatory mediator in l...</td>\n",
       "      <td>10.1186/rr14</td>\n",
       "      <td>PMC59543</td>\n",
       "      <td>11667967</td>\n",
       "      <td>no-cc</td>\n",
       "      <td>Inflammatory diseases of the respiratory tract...</td>\n",
       "      <td>2000-08-15</td>\n",
       "      <td>Vliet, Albert van der; Eiserich, Jason P; Cros...</td>\n",
       "      <td>Respir Res</td>\n",
       "      <td>NaN</td>\n",
       "      <td>NaN</td>\n",
       "      <td>NaN</td>\n",
       "      <td>document_parses/pdf_json/6b0567729c2143a66d737...</td>\n",
       "      <td>document_parses/pmc_json/PMC59543.xml.json</td>\n",
       "      <td>https://www.ncbi.nlm.nih.gov/pmc/articles/PMC5...</td>\n",
       "      <td>NaN</td>\n",
       "    </tr>\n",
       "    <tr>\n",
       "      <th>2</th>\n",
       "      <td>ejv2xln0</td>\n",
       "      <td>06ced00a5fc04215949aa72528f2eeaae1d58927</td>\n",
       "      <td>PMC</td>\n",
       "      <td>Surfactant protein-D and pulmonary host defense</td>\n",
       "      <td>10.1186/rr19</td>\n",
       "      <td>PMC59549</td>\n",
       "      <td>11667972</td>\n",
       "      <td>no-cc</td>\n",
       "      <td>Surfactant protein-D (SP-D) participates in th...</td>\n",
       "      <td>2000-08-25</td>\n",
       "      <td>Crouch, Erika C</td>\n",
       "      <td>Respir Res</td>\n",
       "      <td>NaN</td>\n",
       "      <td>NaN</td>\n",
       "      <td>NaN</td>\n",
       "      <td>document_parses/pdf_json/06ced00a5fc04215949aa...</td>\n",
       "      <td>document_parses/pmc_json/PMC59549.xml.json</td>\n",
       "      <td>https://www.ncbi.nlm.nih.gov/pmc/articles/PMC5...</td>\n",
       "      <td>NaN</td>\n",
       "    </tr>\n",
       "    <tr>\n",
       "      <th>3</th>\n",
       "      <td>2b73a28n</td>\n",
       "      <td>348055649b6b8cf2b9a376498df9bf41f7123605</td>\n",
       "      <td>PMC</td>\n",
       "      <td>Role of endothelin-1 in lung disease</td>\n",
       "      <td>10.1186/rr44</td>\n",
       "      <td>PMC59574</td>\n",
       "      <td>11686871</td>\n",
       "      <td>no-cc</td>\n",
       "      <td>Endothelin-1 (ET-1) is a 21 amino acid peptide...</td>\n",
       "      <td>2001-02-22</td>\n",
       "      <td>Fagan, Karen A; McMurtry, Ivan F; Rodman, David M</td>\n",
       "      <td>Respir Res</td>\n",
       "      <td>NaN</td>\n",
       "      <td>NaN</td>\n",
       "      <td>NaN</td>\n",
       "      <td>document_parses/pdf_json/348055649b6b8cf2b9a37...</td>\n",
       "      <td>document_parses/pmc_json/PMC59574.xml.json</td>\n",
       "      <td>https://www.ncbi.nlm.nih.gov/pmc/articles/PMC5...</td>\n",
       "      <td>NaN</td>\n",
       "    </tr>\n",
       "  </tbody>\n",
       "</table>\n",
       "</div>"
      ],
      "text/plain": [
       "   cord_uid                                       sha source_x  \\\n",
       "0  ug7v899j  d1aafb70c066a2068b02786f8929fd9c900897fb      PMC   \n",
       "1  02tnwd4m  6b0567729c2143a66d737eb0a2f63f2dce2e5a7d      PMC   \n",
       "2  ejv2xln0  06ced00a5fc04215949aa72528f2eeaae1d58927      PMC   \n",
       "3  2b73a28n  348055649b6b8cf2b9a376498df9bf41f7123605      PMC   \n",
       "\n",
       "                                               title                    doi  \\\n",
       "0  Clinical features of culture-proven Mycoplasma...  10.1186/1471-2334-1-6   \n",
       "1  Nitric oxide: a pro-inflammatory mediator in l...           10.1186/rr14   \n",
       "2    Surfactant protein-D and pulmonary host defense           10.1186/rr19   \n",
       "3               Role of endothelin-1 in lung disease           10.1186/rr44   \n",
       "\n",
       "      pmcid pubmed_id license  \\\n",
       "0  PMC35282  11472636   no-cc   \n",
       "1  PMC59543  11667967   no-cc   \n",
       "2  PMC59549  11667972   no-cc   \n",
       "3  PMC59574  11686871   no-cc   \n",
       "\n",
       "                                            abstract publish_time  \\\n",
       "0  OBJECTIVE: This retrospective chart review des...   2001-07-04   \n",
       "1  Inflammatory diseases of the respiratory tract...   2000-08-15   \n",
       "2  Surfactant protein-D (SP-D) participates in th...   2000-08-25   \n",
       "3  Endothelin-1 (ET-1) is a 21 amino acid peptide...   2001-02-22   \n",
       "\n",
       "                                             authors         journal  mag_id  \\\n",
       "0                Madani, Tariq A; Al-Ghamdi, Aisha A  BMC Infect Dis     NaN   \n",
       "1  Vliet, Albert van der; Eiserich, Jason P; Cros...      Respir Res     NaN   \n",
       "2                                    Crouch, Erika C      Respir Res     NaN   \n",
       "3  Fagan, Karen A; McMurtry, Ivan F; Rodman, David M      Respir Res     NaN   \n",
       "\n",
       "  who_covidence_id arxiv_id  \\\n",
       "0              NaN      NaN   \n",
       "1              NaN      NaN   \n",
       "2              NaN      NaN   \n",
       "3              NaN      NaN   \n",
       "\n",
       "                                      pdf_json_files  \\\n",
       "0  document_parses/pdf_json/d1aafb70c066a2068b027...   \n",
       "1  document_parses/pdf_json/6b0567729c2143a66d737...   \n",
       "2  document_parses/pdf_json/06ced00a5fc04215949aa...   \n",
       "3  document_parses/pdf_json/348055649b6b8cf2b9a37...   \n",
       "\n",
       "                               pmc_json_files  \\\n",
       "0  document_parses/pmc_json/PMC35282.xml.json   \n",
       "1  document_parses/pmc_json/PMC59543.xml.json   \n",
       "2  document_parses/pmc_json/PMC59549.xml.json   \n",
       "3  document_parses/pmc_json/PMC59574.xml.json   \n",
       "\n",
       "                                                 url  s2_id  \n",
       "0  https://www.ncbi.nlm.nih.gov/pmc/articles/PMC3...    NaN  \n",
       "1  https://www.ncbi.nlm.nih.gov/pmc/articles/PMC5...    NaN  \n",
       "2  https://www.ncbi.nlm.nih.gov/pmc/articles/PMC5...    NaN  \n",
       "3  https://www.ncbi.nlm.nih.gov/pmc/articles/PMC5...    NaN  "
      ]
     },
     "execution_count": 26,
     "metadata": {},
     "output_type": "execute_result"
    }
   ],
   "source": [
    "# Quick preview and column list\n",
    "print(\"Columns:\", df.columns.tolist())\n",
    "df.head(4)\n"
   ]
  },
  {
   "cell_type": "code",
   "execution_count": 27,
   "id": "ab44fd84-591c-4c3e-8e40-0e3b718240b1",
   "metadata": {},
   "outputs": [
    {
     "name": "stdout",
     "output_type": "stream",
     "text": [
      "<class 'pandas.core.frame.DataFrame'>\n",
      "RangeIndex: 1056660 entries, 0 to 1056659\n",
      "Data columns (total 19 columns):\n",
      " #   Column            Non-Null Count    Dtype  \n",
      "---  ------            --------------    -----  \n",
      " 0   cord_uid          1056660 non-null  object \n",
      " 1   sha               373766 non-null   object \n",
      " 2   source_x          1056660 non-null  object \n",
      " 3   title             1056157 non-null  object \n",
      " 4   doi               656780 non-null   object \n",
      " 5   pmcid             389571 non-null   object \n",
      " 6   pubmed_id         498932 non-null   object \n",
      " 7   license           1056660 non-null  object \n",
      " 8   abstract          821116 non-null   object \n",
      " 9   publish_time      1054846 non-null  object \n",
      " 10  authors           1032791 non-null  object \n",
      " 11  journal           969338 non-null   object \n",
      " 12  mag_id            0 non-null        float64\n",
      " 13  who_covidence_id  482935 non-null   object \n",
      " 14  arxiv_id          14249 non-null    object \n",
      " 15  pdf_json_files    373766 non-null   object \n",
      " 16  pmc_json_files    315742 non-null   object \n",
      " 17  url               686934 non-null   object \n",
      " 18  s2_id             976468 non-null   float64\n",
      "dtypes: float64(2), object(17)\n",
      "memory usage: 153.2+ MB\n",
      "\n",
      "Missing / non-null counts for important columns:\n",
      "title              503\n",
      "abstract        235544\n",
      "publish_time      1814\n",
      "authors          23869\n",
      "journal          87322\n",
      "dtype: int64\n"
     ]
    }
   ],
   "source": [
    "# Info and missing values summary for key columns\n",
    "df.info()\n",
    "print(\"\\nMissing / non-null counts for important columns:\")\n",
    "print(df[['title','abstract','publish_time','authors','journal']].isnull().sum())\n"
   ]
  },
  {
   "cell_type": "code",
   "execution_count": 28,
   "id": "e6e21262-b955-42e3-880f-7bdd2fd77f94",
   "metadata": {},
   "outputs": [
    {
     "name": "stdout",
     "output_type": "stream",
     "text": [
      "Parsed dates: 518871 rows\n",
      "Year range (parsed): 1856-04-01 00:00:00 -> 2024-04-20 00:00:00\n"
     ]
    }
   ],
   "source": [
    "# Parse publish_time to datetime and extract year\n",
    "df['publish_time_dt'] = pd.to_datetime(df['publish_time'], errors='coerce')\n",
    "df['year'] = df['publish_time_dt'].dt.year\n",
    "\n",
    "print(\"Parsed dates:\", df['publish_time_dt'].notna().sum(), \"rows\")\n",
    "print(\"Year range (parsed):\", df['publish_time_dt'].min(), \"->\", df['publish_time_dt'].max())\n"
   ]
  },
  {
   "cell_type": "code",
   "execution_count": 35,
   "id": "73669319-f814-46e1-8bba-0a7c5778be90",
   "metadata": {},
   "outputs": [
    {
     "data": {
      "text/html": [
       "<div>\n",
       "<style scoped>\n",
       "    .dataframe tbody tr th:only-of-type {\n",
       "        vertical-align: middle;\n",
       "    }\n",
       "\n",
       "    .dataframe tbody tr th {\n",
       "        vertical-align: top;\n",
       "    }\n",
       "\n",
       "    .dataframe thead th {\n",
       "        text-align: right;\n",
       "    }\n",
       "</style>\n",
       "<table border=\"1\" class=\"dataframe\">\n",
       "  <thead>\n",
       "    <tr style=\"text-align: right;\">\n",
       "      <th></th>\n",
       "      <th>title</th>\n",
       "      <th>title_word_count</th>\n",
       "      <th>abstract_word_count</th>\n",
       "    </tr>\n",
       "  </thead>\n",
       "  <tbody>\n",
       "    <tr>\n",
       "      <th>0</th>\n",
       "      <td>Clinical features of culture-proven Mycoplasma...</td>\n",
       "      <td>15</td>\n",
       "      <td>262</td>\n",
       "    </tr>\n",
       "    <tr>\n",
       "      <th>1</th>\n",
       "      <td>Nitric oxide: a pro-inflammatory mediator in l...</td>\n",
       "      <td>8</td>\n",
       "      <td>142</td>\n",
       "    </tr>\n",
       "    <tr>\n",
       "      <th>2</th>\n",
       "      <td>Surfactant protein-D and pulmonary host defense</td>\n",
       "      <td>6</td>\n",
       "      <td>219</td>\n",
       "    </tr>\n",
       "    <tr>\n",
       "      <th>3</th>\n",
       "      <td>Role of endothelin-1 in lung disease</td>\n",
       "      <td>6</td>\n",
       "      <td>68</td>\n",
       "    </tr>\n",
       "    <tr>\n",
       "      <th>4</th>\n",
       "      <td>Gene expression in epithelial cells in respons...</td>\n",
       "      <td>10</td>\n",
       "      <td>110</td>\n",
       "    </tr>\n",
       "  </tbody>\n",
       "</table>\n",
       "</div>"
      ],
      "text/plain": [
       "                                               title  title_word_count  \\\n",
       "0  Clinical features of culture-proven Mycoplasma...                15   \n",
       "1  Nitric oxide: a pro-inflammatory mediator in l...                 8   \n",
       "2    Surfactant protein-D and pulmonary host defense                 6   \n",
       "3               Role of endothelin-1 in lung disease                 6   \n",
       "4  Gene expression in epithelial cells in respons...                10   \n",
       "\n",
       "   abstract_word_count  \n",
       "0                  262  \n",
       "1                  142  \n",
       "2                  219  \n",
       "3                   68  \n",
       "4                  110  "
      ]
     },
     "execution_count": 35,
     "metadata": {},
     "output_type": "execute_result"
    }
   ],
   "source": [
    "# Create safe word counts\n",
    "df['title'] = df['title'].fillna(\"\")\n",
    "df['abstract'] = df['abstract'].fillna(\"\")\n",
    "df['title_word_count'] = df['title'].astype(str).str.split().apply(len)\n",
    "df['abstract_word_count'] = df['abstract'].astype(str).str.split().apply(len)\n",
    "\n",
    "df[['title','title_word_count','abstract_word_count']].head(5)\n"
   ]
  },
  {
   "cell_type": "code",
   "execution_count": 38,
   "id": "9bcda300-f8d5-4bac-ac37-0f7132437583",
   "metadata": {},
   "outputs": [
    {
     "data": {
      "text/html": [
       "<div>\n",
       "<style scoped>\n",
       "    .dataframe tbody tr th:only-of-type {\n",
       "        vertical-align: middle;\n",
       "    }\n",
       "\n",
       "    .dataframe tbody tr th {\n",
       "        vertical-align: top;\n",
       "    }\n",
       "\n",
       "    .dataframe thead th {\n",
       "        text-align: right;\n",
       "    }\n",
       "</style>\n",
       "<table border=\"1\" class=\"dataframe\">\n",
       "  <thead>\n",
       "    <tr style=\"text-align: right;\">\n",
       "      <th></th>\n",
       "      <th>title_word_count</th>\n",
       "      <th>abstract_word_count</th>\n",
       "    </tr>\n",
       "  </thead>\n",
       "  <tbody>\n",
       "    <tr>\n",
       "      <th>count</th>\n",
       "      <td>1.056660e+06</td>\n",
       "      <td>1.056660e+06</td>\n",
       "    </tr>\n",
       "    <tr>\n",
       "      <th>mean</th>\n",
       "      <td>1.340922e+01</td>\n",
       "      <td>1.646091e+02</td>\n",
       "    </tr>\n",
       "    <tr>\n",
       "      <th>std</th>\n",
       "      <td>5.697827e+00</td>\n",
       "      <td>1.242203e+02</td>\n",
       "    </tr>\n",
       "    <tr>\n",
       "      <th>min</th>\n",
       "      <td>0.000000e+00</td>\n",
       "      <td>0.000000e+00</td>\n",
       "    </tr>\n",
       "    <tr>\n",
       "      <th>25%</th>\n",
       "      <td>1.000000e+01</td>\n",
       "      <td>5.500000e+01</td>\n",
       "    </tr>\n",
       "    <tr>\n",
       "      <th>50%</th>\n",
       "      <td>1.300000e+01</td>\n",
       "      <td>1.790000e+02</td>\n",
       "    </tr>\n",
       "    <tr>\n",
       "      <th>75%</th>\n",
       "      <td>1.700000e+01</td>\n",
       "      <td>2.470000e+02</td>\n",
       "    </tr>\n",
       "    <tr>\n",
       "      <th>max</th>\n",
       "      <td>2.150000e+02</td>\n",
       "      <td>1.800000e+04</td>\n",
       "    </tr>\n",
       "  </tbody>\n",
       "</table>\n",
       "</div>"
      ],
      "text/plain": [
       "       title_word_count  abstract_word_count\n",
       "count      1.056660e+06         1.056660e+06\n",
       "mean       1.340922e+01         1.646091e+02\n",
       "std        5.697827e+00         1.242203e+02\n",
       "min        0.000000e+00         0.000000e+00\n",
       "25%        1.000000e+01         5.500000e+01\n",
       "50%        1.300000e+01         1.790000e+02\n",
       "75%        1.700000e+01         2.470000e+02\n",
       "max        2.150000e+02         1.800000e+04"
      ]
     },
     "metadata": {},
     "output_type": "display_data"
    },
    {
     "name": "stdout",
     "output_type": "stream",
     "text": [
      "\n",
      "Observations:\n",
      "- Total rows: 1056660\n",
      "- Rows with parsed publish_time: 518871\n",
      "- Top columns with many missing values: mag_id (expected), others shown earlier.\n"
     ]
    }
   ],
   "source": [
    "# Basic numeric summary\n",
    "display(df[['title_word_count','abstract_word_count']].describe())\n",
    "\n",
    "# Top-level observations printed plainly\n",
    "print(\"\\nObservations:\")\n",
    "print(\"- Total rows:\", len(df))\n",
    "print(\"- Rows with parsed publish_time:\", df['publish_time_dt'].notna().sum())\n",
    "print(\"- Top columns with many missing values: mag_id (expected), others shown earlier.\")\n"
   ]
  },
  {
   "cell_type": "code",
   "execution_count": 40,
   "id": "e4f9ccca-118b-44f9-b0be-17aeaebbe8ad",
   "metadata": {},
   "outputs": [
    {
     "data": {
      "text/plain": [
       "year\n",
       "2005.0      1553\n",
       "2006.0      1744\n",
       "2007.0      1682\n",
       "2008.0      2190\n",
       "2009.0      2543\n",
       "2010.0      2223\n",
       "2011.0      2337\n",
       "2012.0      2471\n",
       "2013.0      2948\n",
       "2014.0      3207\n",
       "2015.0      3461\n",
       "2016.0      3944\n",
       "2017.0      3691\n",
       "2018.0      3982\n",
       "2019.0      5630\n",
       "2020.0    164751\n",
       "2021.0    219516\n",
       "2022.0     85310\n",
       "2023.0         1\n",
       "2024.0         1\n",
       "Name: count, dtype: int64"
      ]
     },
     "metadata": {},
     "output_type": "display_data"
    }
   ],
   "source": [
    "# Papers per year (drop NaN years)\n",
    "year_counts = df['year'].value_counts(dropna=True).sort_index()\n",
    "display(year_counts.tail(20))   # show recent years mostly\n"
   ]
  },
  {
   "cell_type": "code",
   "execution_count": 41,
   "id": "f7398cf3-f7df-4bfb-9d15-bcd06a7a74e8",
   "metadata": {},
   "outputs": [
    {
     "data": {
      "image/png": "[encoded data removed]",
      "text/plain": [
       "<Figure size 1000x500 with 1 Axes>"
      ]
     },
     "metadata": {},
     "output_type": "display_data"
    }
   ],
   "source": [
    "# Plot publications by year\n",
    "plt.figure(figsize=(10,5))\n",
    "year_counts.plot(kind='line', marker='o')\n",
    "plt.title(\"Publications by Year\")\n",
    "plt.xlabel(\"Year\")\n",
    "plt.ylabel(\"Number of papers\")\n",
    "plt.xticks(rotation=45)\n",
    "plt.tight_layout()\n",
    "plt.show()\n"
   ]
  },
  {
   "cell_type": "code",
   "execution_count": 42,
   "id": "dcc18d02-2b4f-42cc-b0eb-a5979fb70ac1",
   "metadata": {},
   "outputs": [
    {
     "data": {
      "text/plain": [
       "journal\n",
       "Unknown                            87322\n",
       "PLoS One                            9953\n",
       "bioRxiv                             8961\n",
       "Int J Environ Res Public Health     8201\n",
       "BMJ                                 6928\n",
       "Sci Rep                             5935\n",
       "Cureus                              4212\n",
       "Reactions Weekly                    3891\n",
       "Front Psychol                       3541\n",
       "BMJ Open                            3515\n",
       "Name: count, dtype: int64"
      ]
     },
     "execution_count": 42,
     "metadata": {},
     "output_type": "execute_result"
    }
   ],
   "source": [
    "# Top 10 journals\n",
    "top_journals = df['journal'].fillna(\"Unknown\").value_counts().head(10)\n",
    "top_journals\n"
   ]
  },
  {
   "cell_type": "code",
   "execution_count": 44,
   "id": "7430d7a2-e46e-47a8-a614-6982e9e187f0",
   "metadata": {},
   "outputs": [
    {
     "data": {
      "text/plain": [
       "<function matplotlib.pyplot.show(close=None, block=None)>"
      ]
     },
     "execution_count": 44,
     "metadata": {},
     "output_type": "execute_result"
    },
    {
     "data": {
      "image/png": "[encoded data removed]",
      "text/plain": [
       "<Figure size 800x600 with 1 Axes>"
      ]
     },
     "metadata": {},
     "output_type": "display_data"
    }
   ],
   "source": [
    "import seaborn as sns\n",
    "import matplotlib.pyplot as plt\n",
    "\n",
    "plt.figure(figsize=(8, 6))\n",
    "sns.barplot(\n",
    "    x=top_journals.values, \n",
    "    y=top_journals.index, \n",
    "    hue=top_journals.index,   # link the palette to the journal names\n",
    "    palette=\"mako\", \n",
    "    legend=False              # no duplicate legend\n",
    ")\n",
    "plt.title(\"Top 10 Journals Publishing COVID-19 Papers\")\n",
    "plt.xlabel(\"Number of Papers\")\n",
    "plt.ylabel(\"Journal\")\n",
    "plt.show\n"
   ]
  },
  {
   "cell_type": "code",
   "execution_count": 45,
   "id": "c8f60f71-8786-485e-a09f-76205ea2fceb",
   "metadata": {},
   "outputs": [
    {
     "data": {
      "image/png": "[encoded data removed]",
      "text/plain": [
       "<Figure size 1000x500 with 1 Axes>"
      ]
     },
     "metadata": {},
     "output_type": "display_data"
    }
   ],
   "source": [
    "# Use a sample to speed plotting if very large\n",
    "sample_size = 50000\n",
    "if len(df) > sample_size:\n",
    "    plot_df = df.sample(sample_size, random_state=42)\n",
    "else:\n",
    "    plot_df = df\n",
    "\n",
    "plt.figure(figsize=(10,5))\n",
    "plt.hist(plot_df['abstract_word_count'], bins=50, edgecolor='black')\n",
    "plt.title(\"Distribution of Abstract Word Count\")\n",
    "plt.xlabel(\"Abstract word count\")\n",
    "plt.ylabel(\"Frequency\")\n",
    "plt.xlim(0, 2000)\n",
    "plt.tight_layout()\n",
    "plt.show()\n"
   ]
  },
  {
   "cell_type": "code",
   "execution_count": 46,
   "id": "4844ca22-3934-4a88-bb16-e9605a3ec217",
   "metadata": {},
   "outputs": [
    {
     "data": {
      "image/png": "[encoded data removed]",
      "text/plain": [
       "<Figure size 1000x600 with 1 Axes>"
      ]
     },
     "metadata": {},
     "output_type": "display_data"
    }
   ],
   "source": [
    "# Scatter sample for relation between year and abstract length\n",
    "scatter_sample = df[df['year'].notna()].sample(n=10000, random_state=1) if len(df[df['year'].notna()])>10000 else df[df['year'].notna()]\n",
    "plt.figure(figsize=(10,6))\n",
    "plt.scatter(scatter_sample['year'], scatter_sample['abstract_word_count'], alpha=0.25, s=10)\n",
    "plt.title(\"Abstract Length vs Publication Year\")\n",
    "plt.xlabel(\"Year\")\n",
    "plt.ylabel(\"Abstract word count\")\n",
    "plt.ylim(0, 5000)\n",
    "plt.tight_layout()\n",
    "plt.show()\n"
   ]
  },
  {
   "cell_type": "code",
   "execution_count": 47,
   "id": "fab0d687-faa2-49f1-be7f-e10fb297919f",
   "metadata": {},
   "outputs": [
    {
     "data": {
      "text/html": [
       "<div>\n",
       "<style scoped>\n",
       "    .dataframe tbody tr th:only-of-type {\n",
       "        vertical-align: middle;\n",
       "    }\n",
       "\n",
       "    .dataframe tbody tr th {\n",
       "        vertical-align: top;\n",
       "    }\n",
       "\n",
       "    .dataframe thead th {\n",
       "        text-align: right;\n",
       "    }\n",
       "</style>\n",
       "<table border=\"1\" class=\"dataframe\">\n",
       "  <thead>\n",
       "    <tr style=\"text-align: right;\">\n",
       "      <th></th>\n",
       "      <th>count</th>\n",
       "    </tr>\n",
       "    <tr>\n",
       "      <th>word</th>\n",
       "      <th></th>\n",
       "    </tr>\n",
       "  </thead>\n",
       "  <tbody>\n",
       "    <tr>\n",
       "      <th>the</th>\n",
       "      <td>561666</td>\n",
       "    </tr>\n",
       "    <tr>\n",
       "      <th>and</th>\n",
       "      <td>541897</td>\n",
       "    </tr>\n",
       "    <tr>\n",
       "      <th>covid</th>\n",
       "      <td>494829</td>\n",
       "    </tr>\n",
       "    <tr>\n",
       "      <th>for</th>\n",
       "      <td>207425</td>\n",
       "    </tr>\n",
       "    <tr>\n",
       "      <th>with</th>\n",
       "      <td>163171</td>\n",
       "    </tr>\n",
       "    <tr>\n",
       "      <th>pandemic</th>\n",
       "      <td>140316</td>\n",
       "    </tr>\n",
       "    <tr>\n",
       "      <th>during</th>\n",
       "      <td>115644</td>\n",
       "    </tr>\n",
       "    <tr>\n",
       "      <th>sars</th>\n",
       "      <td>105827</td>\n",
       "    </tr>\n",
       "    <tr>\n",
       "      <th>cov</th>\n",
       "      <td>100508</td>\n",
       "    </tr>\n",
       "    <tr>\n",
       "      <th>patients</th>\n",
       "      <td>96714</td>\n",
       "    </tr>\n",
       "    <tr>\n",
       "      <th>study</th>\n",
       "      <td>75469</td>\n",
       "    </tr>\n",
       "    <tr>\n",
       "      <th>from</th>\n",
       "      <td>74208</td>\n",
       "    </tr>\n",
       "    <tr>\n",
       "      <th>health</th>\n",
       "      <td>66883</td>\n",
       "    </tr>\n",
       "    <tr>\n",
       "      <th>coronavirus</th>\n",
       "      <td>57631</td>\n",
       "    </tr>\n",
       "    <tr>\n",
       "      <th>disease</th>\n",
       "      <td>56448</td>\n",
       "    </tr>\n",
       "    <tr>\n",
       "      <th>analysis</th>\n",
       "      <td>49067</td>\n",
       "    </tr>\n",
       "    <tr>\n",
       "      <th>infection</th>\n",
       "      <td>48050</td>\n",
       "    </tr>\n",
       "    <tr>\n",
       "      <th>care</th>\n",
       "      <td>46372</td>\n",
       "    </tr>\n",
       "    <tr>\n",
       "      <th>review</th>\n",
       "      <td>43466</td>\n",
       "    </tr>\n",
       "    <tr>\n",
       "      <th>based</th>\n",
       "      <td>42292</td>\n",
       "    </tr>\n",
       "    <tr>\n",
       "      <th>impact</th>\n",
       "      <td>42202</td>\n",
       "    </tr>\n",
       "    <tr>\n",
       "      <th>clinical</th>\n",
       "      <td>37298</td>\n",
       "    </tr>\n",
       "    <tr>\n",
       "      <th>case</th>\n",
       "      <td>36758</td>\n",
       "    </tr>\n",
       "    <tr>\n",
       "      <th>among</th>\n",
       "      <td>32350</td>\n",
       "    </tr>\n",
       "    <tr>\n",
       "      <th>using</th>\n",
       "      <td>31850</td>\n",
       "    </tr>\n",
       "  </tbody>\n",
       "</table>\n",
       "</div>"
      ],
      "text/plain": [
       "              count\n",
       "word               \n",
       "the          561666\n",
       "and          541897\n",
       "covid        494829\n",
       "for          207425\n",
       "with         163171\n",
       "pandemic     140316\n",
       "during       115644\n",
       "sars         105827\n",
       "cov          100508\n",
       "patients      96714\n",
       "study         75469\n",
       "from          74208\n",
       "health        66883\n",
       "coronavirus   57631\n",
       "disease       56448\n",
       "analysis      49067\n",
       "infection     48050\n",
       "care          46372\n",
       "review        43466\n",
       "based         42292\n",
       "impact        42202\n",
       "clinical      37298\n",
       "case          36758\n",
       "among         32350\n",
       "using         31850"
      ]
     },
     "execution_count": 47,
     "metadata": {},
     "output_type": "execute_result"
    }
   ],
   "source": [
    "# Top words in titles (simple approach)\n",
    "titles = df['title'].dropna().astype(str).str.lower().tolist()\n",
    "tokens = []\n",
    "for t in titles:\n",
    "    tokens.extend(re.findall(r'\\b[a-z]{3,}\\b', t))  # words >=3 letters\n",
    "\n",
    "from collections import Counter\n",
    "top_words = Counter(tokens).most_common(25)\n",
    "pd.DataFrame(top_words, columns=['word','count']).set_index('word')\n"
   ]
  },
  {
   "cell_type": "code",
   "execution_count": 48,
   "id": "115690ba-4de5-45b2-8395-93dfe47ab203",
   "metadata": {},
   "outputs": [
    {
     "name": "stdout",
     "output_type": "stream",
     "text": [
      "Saved metadata_clean_sample.csv with rows: 200000\n"
     ]
    }
   ],
   "source": [
    "# Save essential columns as a sample CSV for the app & repo\n",
    "keep_cols = ['cord_uid','title','abstract','authors','journal','publish_time_dt','year','title_word_count','abstract_word_count','doi','url']\n",
    "clean_sample = df[keep_cols].copy()\n",
    "\n",
    "# Save up to 200k rows to keep file manageable\n",
    "save_n = 200000 if len(clean_sample) > 200000 else len(clean_sample)\n",
    "clean_sample.head(save_n).to_csv(r\"C:/Users/User/Desktop/Python/Frameworks_Assignment/metadata_clean_sample.csv\", index=False)\n",
    "print(\"Saved metadata_clean_sample.csv with rows:\", save_n)\n"
   ]
  },
  {
   "cell_type": "markdown",
   "id": "a2932187-9ed1-49bf-9f92-755914559256",
   "metadata": {},
   "source": [
    "## Findings and short reflection\n",
    "\n",
    "- I loaded the CORD-19 metadata and parsed the publication dates.\n",
    "- Most records have titles and many have abstracts; `mag_id` is empty in this file.\n",
    "- The number of publications increased in the COVID era (see the line chart).\n",
    "- `Virginica` style note removed (this is CORD-19 — ignore old Iris notes).\n",
    "- Top journals and title word counts help show common research areas.\n",
    "- I saved a cleaned sample (`metadata_clean_sample.csv`) for the app and for quick sharing.\n",
    "\n",
    "This work helped me see how to handle big CSV files, parse dates, and make fast visualizations from large data.\n"
   ]
  },
  {
   "cell_type": "code",
   "execution_count": null,
   "id": "b970e7dd-f39c-4b70-adb2-3804b0a96f2e",
   "metadata": {},
   "outputs": [],
   "source": []
  }
 ],
 "metadata": {
  "kernelspec": {
   "display_name": "Python 3 (ipykernel)",
   "language": "python",
   "name": "python3"
  },
  "language_info": {
   "codemirror_mode": {
    "name": "ipython",
    "version": 3
   },
   "file_extension": ".py",
   "mimetype": "text/x-python",
   "name": "python",
   "nbconvert_exporter": "python",
   "pygments_lexer": "ipython3",
   "version": "3.13.5"
  }
 },
 "nbformat": 4,
 "nbformat_minor": 5
}
